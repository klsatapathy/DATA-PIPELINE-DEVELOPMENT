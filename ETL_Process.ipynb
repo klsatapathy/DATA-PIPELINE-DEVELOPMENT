{
 "cells": [
  {
   "cell_type": "markdown",
   "id": "dfe83779-21fd-4e11-a410-2bc1dd86683a",
   "metadata": {},
   "source": [
    "* # *Task-1. CREATE A PIPELINE FOR DATA PREPROCESSING, TRANSFORMATION, AND LOADING USING TOOLS LIKE PANDAS AND SCIKIT-LEARN*"
   ]
  },
  {
   "cell_type": "code",
   "execution_count": 24,
   "id": "1c3d9301-81d0-424c-93c8-8e68fb56ba06",
   "metadata": {},
   "outputs": [],
   "source": [
    "import pandas as pd\n",
    "from sklearn.model_selection import train_test_split\n",
    "from sklearn.preprocessing import StandardScaler\n",
    "\n",
    "import warnings\n",
    "warnings.filterwarnings(\"ignore\")"
   ]
  },
  {
   "cell_type": "code",
   "execution_count": 25,
   "id": "c35db162",
   "metadata": {},
   "outputs": [],
   "source": [
    "# Function to load the dataset\n",
    "def load_df(file_path):\n",
    "    try:\n",
    "        if file_path.endswith('.csv'):\n",
    "            df = pd.read_csv(file_path)\n",
    "        elif file_path.endswith(('.xls', '.xlsx')):\n",
    "            df = pd.read_excel(file_path)\n",
    "        else:\n",
    "            raise ValueError(\"Unsupported file format.\")\n",
    "        return df\n",
    "    except Exception as e:\n",
    "        print(f\"Error loading df: {e}\")\n",
    "        return None"
   ]
  },
  {
   "cell_type": "code",
   "execution_count": 26,
   "id": "3a2f7be4",
   "metadata": {},
   "outputs": [],
   "source": [
    "# Function to preprocess the df\n",
    "def preprocess_df(df, target_column):\n",
    "    # Check for missing values\n",
    "    print(\"Checking for missing values...\")\n",
    "    print(df.isnull().sum())\n",
    "    # Fill missing values with mean for numerical columns)\n",
    "    df.fillna(df.mean(), inplace=True)\n",
    "    # Convert categorical variables to numerical using one-hot encoding)\n",
    "    df = pd.get_dummies(df, drop_first=True)\n",
    "    # Split the df into X and y\n",
    "    X = df.drop(target_column, axis=1)\n",
    "    y = df[target_column]\n",
    "    return X, y"
   ]
  },
  {
   "cell_type": "code",
   "execution_count": 27,
   "id": "fa12240a",
   "metadata": {},
   "outputs": [],
   "source": [
    "# Function to scale the features\n",
    "def scale_features(X):\n",
    "    scaler = StandardScaler()\n",
    "    X_scaled = scaler.fit_transform(X)\n",
    "    return X_scaled"
   ]
  },
  {
   "cell_type": "code",
   "execution_count": 28,
   "id": "a478d086",
   "metadata": {},
   "outputs": [
    {
     "name": "stdout",
     "output_type": "stream",
     "text": [
      "Available columns in the dataset:- \n",
      "['Pregnancies', 'Glucose', 'BloodPressure', 'SkinThickness', 'Insulin', 'BMI', 'DiabetesPedigreeFunction', 'Age', 'Outcome']\n",
      "Checking for missing values...\n",
      "Pregnancies                 0\n",
      "Glucose                     0\n",
      "BloodPressure               0\n",
      "SkinThickness               0\n",
      "Insulin                     0\n",
      "BMI                         0\n",
      "DiabetesPedigreeFunction    0\n",
      "Age                         0\n",
      "Outcome                     0\n",
      "dtype: int64\n",
      "ETL process completed and cleaned dataset saved as 'cleaned_dataset.csv'.\n"
     ]
    }
   ],
   "source": [
    "# Main function to run the ETL process\n",
    "def main():\n",
    "    # User input for dataset and target column\n",
    "    file_path = input(\"Enter the path to your dataset (CSV file): \")\n",
    "    df = load_df(file_path)\n",
    "    \n",
    "    if df is not None:\n",
    "        print(\"Available columns in the dataset:- \")\n",
    "        print(df.columns.tolist())\n",
    "        target_column = input(\"Enter the name of the target column: \") \n",
    "        if target_column not in df.columns:\n",
    "            print(\"Target column not found in the dataset. Please check the name.\")\n",
    "            return\n",
    "        \n",
    "        # Preprocess the df\n",
    "        X, y = preprocess_df(df, target_column)\n",
    "        # Scale the features\n",
    "        X_scaled = scale_features(X)\n",
    "        # Combine scaled features and target variable into a single dfFrame\n",
    "        cleaned_df = pd.DataFrame(X_scaled, columns=X.columns)\n",
    "        cleaned_df[target_column] = y.values  # Add the target column back\n",
    "        # Save the cleaned dataset to a CSV file\n",
    "        cleaned_df.to_csv('cleaned_dataset.csv', index=False)\n",
    "        print(\"ETL process completed and cleaned dataset saved as 'cleaned_dataset.csv'.\")\n",
    "\n",
    "if __name__ == \"__main__\":\n",
    "    main()"
   ]
  },
  {
   "cell_type": "code",
   "execution_count": null,
   "id": "bfa67641",
   "metadata": {},
   "outputs": [],
   "source": []
  }
 ],
 "metadata": {
  "kernelspec": {
   "display_name": "Python 3",
   "language": "python",
   "name": "python3"
  },
  "language_info": {
   "codemirror_mode": {
    "name": "ipython",
    "version": 3
   },
   "file_extension": ".py",
   "mimetype": "text/x-python",
   "name": "python",
   "nbconvert_exporter": "python",
   "pygments_lexer": "ipython3",
   "version": "3.10.10"
  }
 },
 "nbformat": 4,
 "nbformat_minor": 5
}
